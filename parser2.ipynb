{
 "cells": [
  {
   "cell_type": "code",
   "execution_count": null,
   "metadata": {},
   "outputs": [],
   "source": [
    "import pandas as pd\n",
    "import os\n",
    "import pandas as pd\n",
    "from difflib import SequenceMatcher"
   ]
  },
  {
   "cell_type": "code",
   "execution_count": null,
   "metadata": {},
   "outputs": [],
   "source": [
    "# Define the input and output file paths\n",
    "input_file_path = 'passes.csv'  # Replace with your actual file path\n",
    "output_file_path = 'filtered_passes_binary.csv'"
   ]
  },
  {
   "cell_type": "code",
   "execution_count": null,
   "metadata": {},
   "outputs": [],
   "source": [
    "# Ensure the file exists\n",
    "if not os.path.exists(input_file_path):\n",
    "    print(f\"Error: The file '{input_file_path}' does not exist.\")\n",
    "else:\n",
    "    try:\n",
    "        # Read the original CSV file\n",
    "        df = pd.read_csv(input_file_path)\n",
    "\n",
    "        # Check if the necessary columns exist\n",
    "        main_columns = ['time_start', 'time_end', 'sender_id', 'receiver_id']\n",
    "        target_columns = [f'x_{i}' for i in range(1, 29)]  # x1 to x28\n",
    "        all_columns = main_columns + target_columns\n",
    "\n",
    "        missing_columns = [col for col in all_columns if col not in df.columns]\n",
    "        if missing_columns:\n",
    "            print(f\"Error: The following columns are missing: {', '.join(missing_columns)}\")\n",
    "        else:\n",
    "            # Function to create the binary sequence for empty and non-empty cells\n",
    "            def create_binary_sequence(row):\n",
    "                return ''.join(['0' if pd.isna(row[col]) else '1' for col in target_columns])\n",
    "\n",
    "            # Apply the function to create the binary sequence column\n",
    "            df['empty_columns_sequence'] = df[target_columns].apply(create_binary_sequence, axis=1)\n",
    "\n",
    "            # Select the required columns for the output\n",
    "            filtered_df = df[main_columns + ['empty_columns_sequence']]\n",
    "\n",
    "            # Save the filtered DataFrame to a new CSV file\n",
    "            filtered_df.to_csv(output_file_path, index=False)\n",
    "            print(f\"Filtered file saved successfully to {output_file_path}\")\n",
    "\n",
    "    except Exception as e:\n",
    "        print(f\"An error occurred: {e}\")"
   ]
  },
  {
   "cell_type": "code",
   "execution_count": null,
   "metadata": {},
   "outputs": [],
   "source": [
    "# making a direcotry\n",
    "os.mkdir('this')"
   ]
  },
  {
   "cell_type": "code",
   "execution_count": null,
   "metadata": {},
   "outputs": [],
   "source": [
    "import pandas as pd\n",
    "from difflib import SequenceMatcher\n",
    "\n",
    "def similar(a, b):\n",
    "    \"\"\"Check similarity of two strings using SequenceMatcher.\"\"\"\n",
    "    return SequenceMatcher(None, a, b).ratio()\n",
    "\n",
    "def process_csv(input_file, threshold=0.6):\n",
    "    # Load the data\n",
    "    df = pd.read_csv(input_file)\n",
    "    match_count = 0\n",
    "\n",
    "    while not df.empty:\n",
    "        match_count += 1\n",
    "        first_row = df.iloc[0]\n",
    "        current_time = first_row[\"time_end\"]\n",
    "        current_receiver = first_row[\"receiver_id\"]\n",
    "        current_sequence = first_row[\"empty_columns_sequence\"]\n",
    "\n",
    "        # Start creating the match group\n",
    "        match_rows = [first_row.name]  # Store index of matched rows\n",
    "\n",
    "        while True:\n",
    "            potential_matches = df[df[\"time_start\"] == current_time]\n",
    "            if not potential_matches.empty:\n",
    "                matched_row = None\n",
    "                for _, row in potential_matches.iterrows():\n",
    "                    if row[\"sender_id\"] == current_receiver:\n",
    "                        matched_row = row\n",
    "                        break\n",
    "                if matched_row is None:  # Check empty_columns_sequence if no direct match\n",
    "                    for _, row in potential_matches.iterrows():\n",
    "                        if similar(row[\"empty_columns_sequence\"], current_sequence) >= threshold:\n",
    "                            matched_row = row\n",
    "                            break\n",
    "\n",
    "                if matched_row is not None:\n",
    "                    match_rows.append(matched_row.name)\n",
    "                    current_time = matched_row[\"time_end\"]\n",
    "                    current_receiver = matched_row[\"receiver_id\"]\n",
    "                    current_sequence = matched_row[\"empty_columns_sequence\"]\n",
    "                else:\n",
    "                    break  # No further matches found\n",
    "            else:\n",
    "                break  # No potential matches\n",
    "\n",
    "        # Save the match to a new CSV file\n",
    "        match_df = df.loc[match_rows]\n",
    "        match_df.to_csv(f\"this/match_{match_count}.csv\", index=False)\n",
    "\n",
    "        # Drop the matched rows from the main DataFrame\n",
    "        df = df.drop(index=match_rows).reset_index(drop=True)\n",
    "\n",
    "# Run the script\n",
    "process_csv(\"filtered_passes_binary.csv\")\n"
   ]
  },
  {
   "cell_type": "code",
   "execution_count": null,
   "metadata": {},
   "outputs": [],
   "source": []
  }
 ],
 "metadata": {
  "kernelspec": {
   "display_name": "Python 3",
   "language": "python",
   "name": "python3"
  },
  "language_info": {
   "codemirror_mode": {
    "name": "ipython",
    "version": 3
   },
   "file_extension": ".py",
   "mimetype": "text/x-python",
   "name": "python",
   "nbconvert_exporter": "python",
   "pygments_lexer": "ipython3",
   "version": "3.10.12"
  }
 },
 "nbformat": 4,
 "nbformat_minor": 2
}
